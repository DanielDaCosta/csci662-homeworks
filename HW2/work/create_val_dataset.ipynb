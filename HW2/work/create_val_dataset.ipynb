{
 "cells": [
  {
   "cell_type": "markdown",
   "metadata": {},
   "source": [
    "# Create Dataset"
   ]
  },
  {
   "cell_type": "code",
   "execution_count": 1,
   "metadata": {},
   "outputs": [],
   "source": [
    "import pandas as pd\n",
    "import csv"
   ]
  },
  {
   "cell_type": "markdown",
   "metadata": {},
   "source": [
    "## Create Train-Val-Test set"
   ]
  },
  {
   "cell_type": "code",
   "execution_count": 27,
   "metadata": {},
   "outputs": [],
   "source": [
    "name = \"questions\"\n",
    "# name = \"odiya\"\n",
    "# name = \"4dim\"\n",
    "# name = \"products\""
   ]
  },
  {
   "cell_type": "code",
   "execution_count": 28,
   "metadata": {},
   "outputs": [],
   "source": [
    "df = pd.read_csv(f\"datasets/{name}.train.txt\", sep='\\t', header=None, on_bad_lines='skip')"
   ]
  },
  {
   "cell_type": "code",
   "execution_count": 29,
   "metadata": {},
   "outputs": [],
   "source": [
    "# Calculate the number of rows for each set\n",
    "total_rows = len(df)\n",
    "train_size = int(0.8 * total_rows)\n",
    "dev_size  = (total_rows - train_size)\n",
    "\n",
    "# Shuffle the dataframe randomly\n",
    "df = df.sample(frac=1, random_state=42)\n",
    "\n",
    "# Split the dataframe into train, dev, and test sets\n",
    "train_set = df[:train_size]\n",
    "dev_set = df[train_size:]"
   ]
  },
  {
   "cell_type": "markdown",
   "metadata": {},
   "source": [
    "**Save with true labels**"
   ]
  },
  {
   "cell_type": "code",
   "execution_count": 30,
   "metadata": {},
   "outputs": [],
   "source": [
    "# Save datasets with True Labels\n",
    "\n",
    "# Define file paths for each set\n",
    "train_file_path = f'datasets/{name}/train.txt'\n",
    "dev_file_path = f'datasets/{name}/val.txt'\n",
    "\n",
    "# Function to save a DataFrame as a text file\n",
    "def save_dataframe_as_text(df, file_path):\n",
    "    with open(file_path, 'w') as file:\n",
    "        for row in df.itertuples(index=False):\n",
    "            # Join the row elements into a tab-separated string\n",
    "            row_str = '\\t'.join(map(str, row))\n",
    "            file.write(row_str + '\\n')\n",
    "\n",
    "# Save each data set\n",
    "save_dataframe_as_text(train_set, train_file_path)\n",
    "save_dataframe_as_text(dev_set, dev_file_path)"
   ]
  },
  {
   "cell_type": "markdown",
   "metadata": {},
   "source": [
    "**Save without labels**"
   ]
  },
  {
   "cell_type": "code",
   "execution_count": 31,
   "metadata": {},
   "outputs": [],
   "source": [
    "# Function to save a Series as a text file\n",
    "def save_series_as_text(series, file_path):\n",
    "    with open(file_path, 'w') as file:\n",
    "        for value in series:\n",
    "            file.write(str(value) + '\\n')"
   ]
  },
  {
   "cell_type": "code",
   "execution_count": 32,
   "metadata": {},
   "outputs": [],
   "source": [
    "dev_inference_file_path = f'datasets/{name}/val.test.txt'\n",
    "# test_inference_file_path = f'work/datasets/{name}/test.test.txt'\n",
    "\n",
    "save_series_as_text(dev_set[0], dev_inference_file_path)"
   ]
  },
  {
   "cell_type": "code",
   "execution_count": 33,
   "metadata": {},
   "outputs": [],
   "source": [
    "# # Save for INFERENCE (NO TARGET)\n",
    "# series = true_labels.head(100)[0]\n",
    "\n",
    "# # Specify the file path\n",
    "# file_path = f\"work/datasets/{name}.val.test.txt\"\n",
    "\n",
    "# # Open the file for writing and write each element without quotes\n",
    "# with open(file_path, 'w') as file:\n",
    "#     for value in series:\n",
    "#         file.write(str(value) + '\\n')\n",
    "\n",
    "\n",
    "# # Save for INFERENCE (WITH TARGET)\n",
    "# series = true_labels.head(100)\n",
    "\n",
    "# # Specify the file path\n",
    "# file_path = f\"work/datasets/{name}.val.txt\"\n",
    "\n",
    "# # Open the file for writing\n",
    "# with open(file_path, 'w') as file:\n",
    "#     for row in series.itertuples(index=False):\n",
    "#         # Join the row elements into a tab-separated string (adjust separator as needed)\n",
    "#         row_str = '\\t'.join(map(str, row))\n",
    "#         file.write(row_str + '\\n')\n"
   ]
  },
  {
   "cell_type": "code",
   "execution_count": null,
   "metadata": {},
   "outputs": [],
   "source": []
  }
 ],
 "metadata": {
  "kernelspec": {
   "display_name": "base",
   "language": "python",
   "name": "python3"
  },
  "language_info": {
   "codemirror_mode": {
    "name": "ipython",
    "version": 3
   },
   "file_extension": ".py",
   "mimetype": "text/x-python",
   "name": "python",
   "nbconvert_exporter": "python",
   "pygments_lexer": "ipython3",
   "version": "3.10.11"
  },
  "orig_nbformat": 4
 },
 "nbformat": 4,
 "nbformat_minor": 2
}
