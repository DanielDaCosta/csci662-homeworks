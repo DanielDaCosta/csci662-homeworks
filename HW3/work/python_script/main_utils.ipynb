{
 "cells": [
  {
   "cell_type": "code",
   "execution_count": 60,
   "metadata": {},
   "outputs": [],
   "source": [
    "from datasets import load_from_disk\n",
    "import datasets\n",
    "from datasets import load_dataset\n",
    "from transformers import AutoTokenizer\n",
    "from torch.utils.data import DataLoader\n",
    "from transformers import AutoModelForSequenceClassification\n",
    "from torch.optim import AdamW\n",
    "from transformers import get_scheduler\n",
    "import torch\n",
    "from tqdm.auto import tqdm\n",
    "import evaluate\n",
    "import random\n",
    "import argparse\n",
    "from nltk.corpus import wordnet as wn\n",
    "from nltk import word_tokenize\n",
    "from nltk.tokenize.treebank import TreebankWordDetokenizer\n",
    "from nltk import pos_tag"
   ]
  },
  {
   "cell_type": "code",
   "execution_count": 61,
   "metadata": {},
   "outputs": [],
   "source": [
    "def custom_transform(example):\n",
    "    \n",
    "    ################################\n",
    "    ##### YOUR CODE BEGINGS HERE ###\n",
    "    \n",
    "    # Design and implement the transformation as mentioned in pdf\n",
    "    # You are free to implement any transformation but the comments at the top roughly describe\n",
    "    # how you could implement two of them --- synonym replacement and typos.\n",
    "    \n",
    "    # You should update example[\"text\"] using your transformation\n",
    "        \n",
    "    raise NotImplementedError\n",
    "    \n",
    "    \n",
    "    ##### YOUR CODE ENDS HERE ######\n",
    "    \n",
    "    return example\n",
    "\n",
    "\n"
   ]
  },
  {
   "cell_type": "code",
   "execution_count": 62,
   "metadata": {},
   "outputs": [],
   "source": [
    "# Define the directory where the dataset is saved\n",
    "load_directory = \"dataset/\"\n",
    "\n",
    "# Load the dataset from the specified directory\n",
    "loaded_data = load_from_disk(load_directory)\n",
    "\n",
    "# Now you can access the individual splits (train, test, unsupervised) as follows:\n",
    "train_dataset = loaded_data[\"train\"]\n",
    "test_dataset = loaded_data[\"test\"]\n",
    "unsupervised_dataset = loaded_data[\"unsupervised\"]"
   ]
  },
  {
   "cell_type": "code",
   "execution_count": 63,
   "metadata": {},
   "outputs": [],
   "source": [
    "# replacement probability\n",
    "probability = 0.6\n",
    "\n",
    "# Generate a random number between 0 and 1\n",
    "random_number = random.random()"
   ]
  },
  {
   "cell_type": "code",
   "execution_count": 64,
   "metadata": {},
   "outputs": [],
   "source": [
    "example = test_dataset[0]['text']"
   ]
  },
  {
   "cell_type": "code",
   "execution_count": 107,
   "metadata": {},
   "outputs": [],
   "source": [
    "def get_wordnet_pos(treebank_tag): # Convert POS-Tag from treebank_tag to Wordnet tags\n",
    "    if treebank_tag.startswith('J'):\n",
    "        return wn.ADJ\n",
    "    elif treebank_tag.startswith('V'):\n",
    "        return wn.VERB\n",
    "    elif treebank_tag.startswith('N'):\n",
    "        return wn.NOUN\n",
    "    elif treebank_tag.startswith('R'):\n",
    "        return wn.ADV\n",
    "    else:\n",
    "        return None  # If no match is found, return None\n",
    "    \n"
   ]
  },
  {
   "cell_type": "code",
   "execution_count": 163,
   "metadata": {},
   "outputs": [],
   "source": [
    "def replace_with_synonym(text: str, pct_synonyms: float) -> str:\n",
    "    \"\"\"Replace {pct_synonyms}% of words in a sentence with their synonyms\n",
    "    :param text (str):\n",
    "    :param pct_synonyms (float): percentage of words to be replaced. Between 0 and 1\n",
    "    :return: \n",
    "    \"\"\"\n",
    "    # Tokenize sentence\n",
    "    word_list  = word_tokenize(text)\n",
    "    n_tokens = len(word_list)\n",
    "    n_synonyms = int(n_tokens*pct_synonyms)\n",
    "\n",
    "    # Perform POS tagging to help selecting synonym\n",
    "    pos_tags = pos_tag(word_list)\n",
    "    syn_dict = {}\n",
    "    for i in range(n_synonyms):\n",
    "        chosen_word = random.choice(word_list)\n",
    "        synonyms = wn.synsets(chosen_word)\n",
    "\n",
    "        # If chosen word doesn't have a synonym\n",
    "        # retry until finding a word that does.\n",
    "        max_retry = len(word_list)\n",
    "        retry = 0 \n",
    "        while (len(synonyms) == 0 and retry <= max_retry):\n",
    "            chosen_word = random.choice(word_list)\n",
    "            synonyms = wn.synsets(chosen_word)\n",
    "\n",
    "            if len(synonyms) > 0:\n",
    "                # Print the word and its POS tag\n",
    "                chosen_word_tag = [tag for word, tag in pos_tags if word == chosen_word][0]\n",
    "                chosen_word_wordnet_tag = get_wordnet_pos(chosen_word_tag)\n",
    "                \n",
    "                selected_synonym = chosen_word\n",
    "                for syn in synonyms:\n",
    "                    # Only consider synonyms that have the same POS_TAG\n",
    "                    if syn.pos() == chosen_word_wordnet_tag:\n",
    "                        for lemma in syn.lemmas():\n",
    "                            if (lemma.name() != chosen_word):\n",
    "                                # Select the first synonym that appears\n",
    "                                selected_synonym = lemma.name().replace('_', ' ') # Replace underscores for multi-word synonyms\n",
    "                                break\n",
    "                        break\n",
    "                    break\n",
    "                if selected_synonym == chosen_word:\n",
    "                    synonyms = [] # continue while loop\n",
    "                else:\n",
    "                    # print(\"selected_synonym: \", selected_synonym)\n",
    "                    syn_dict[chosen_word] = selected_synonym\n",
    "\n",
    "    # return syn_dict\n",
    "    # Replace selected words\n",
    "    for old, new in syn_dict.items():\n",
    "        text = text.replace(old, new)\n",
    "    return text, syn_dict"
   ]
  },
  {
   "cell_type": "code",
   "execution_count": 164,
   "metadata": {},
   "outputs": [
    {
     "name": "stdout",
     "output_type": "stream",
     "text": [
      "Original\n",
      " I love sci-fi and am willing to put up with a lot. Sci-fi movies/TV are usually underfunded, under-appreciated and misunderstood. I tried to like this, I really did, but it is to good TV sci-fi as Babylon 5 is to Star Trek (the original). Silly prosthetics, cheap cardboard sets, stilted dialogues, CG that doesn't match the background, and painfully one-dimensional characters cannot be overcome with a 'sci-fi' setting. (I'm sure there are those of you out there who think Babylon 5 is good sci-fi TV. It's not. It's clichéd and uninspiring.) While US viewers might like emotion and character development, sci-fi is a genre that does not take itself seriously (cf. Star Trek). It may treat important issues, yet not as a serious philosophy. It's really difficult to care about the characters here as they are not simply foolish, just missing a spark of life. Their actions and reactions are wooden and predictable, often painful to watch. The makers of Earth KNOW it's rubbish as they have to always say \"Gene Roddenberry's Earth...\" otherwise people would not continue watching. Roddenberry's ashes must be turning in their orbit as this dull, cheap, poorly edited (watching it without advert breaks really brings this home) trudging Trabant of a show lumbers into space. Spoiler. So, kill off a main character. And then bring him back as another actor. Jeeez! Dallas all over again.\n",
      "Synonym\n",
      " I love sci-fi and am willing to put up with a lot. Sci-fi movies/television are normally underfunded, under-appreciated and mbeunderstood. I try to like thbe, I truly did, but it be to good television sci-fi as Babylon 5 be to star trek (the original). Silly prosthetics, inexpensive cardboard set, stilted dialogue, CG that doesn't match the background, and painfully one-dimensional characters cannon be get the better of with a 'sci-fi' scene. (I'm sure there are those of you out there who think Babylon 5 be good sci-fi television. It's non. It's clichéd and uninspiring.) While United States viewers might like emotion and character development, sci-fi be a genre that does non take itself seriously (californium. star trek). It may treat important besues, yet non as a serious philosophy. It's truly hard to care about the characters here as they are non simply foolbeh, just mbesing a spark of life. Their action and reaction are wooden and predictable, often painful to watch. The maker of earth KNOW it's rubbbeh as they have to always say \"gene Roddenberry's earth...\" otherwbee people would non go on watching. Roddenberry's ash must be turning in their celestial orbit as thbe dull, inexpensive, poorly edited (watching it without advert breaks truly convey thbe home) trudging Trabant of a show lumbers into infinite. spoiler. sol, kill off a main character. And then convey him back as anonher actor. Jeeez! Dallas all over again.\n",
      "{'So': 'sol', 'Gene': 'gene', 'Trek': 'trek', 'is': 'be', 'Star': 'star', 'Earth': 'earth', 'not': 'non', 'really': 'truly', 'cheap': 'inexpensive', 'dialogues': 'dialogue', 'cf': 'californium', 'TV': 'television', 'Spoiler': 'spoiler', 'issues': 'issue', 'overcome': 'get the better of', 'space': 'infinite', 'actions': 'action', 'continue': 'go on', 'US': 'United States', 'makers': 'maker', 'missing': 'miss', 'brings': 'bring', 'sets': 'set', 'bring': 'convey', 'setting': 'scene', 'difficult': 'hard', 'tried': 'try', 'ashes': 'ash', 'orbit': 'celestial orbit', 'usually': 'normally'}\n",
      "Original\n",
      " Worth the entertainment value of a rental, especially if you like action movies. This one features the usual car chases, fights with the great Van Damme kick style, shooting battles with the 40 shell load shotgun, and even terrorist style bombs. All of this is entertaining and competently handled but there is nothing that really blows you away if you've seen your share before.<br /><br />The plot is made interesting by the inclusion of a rabbit, which is clever but hardly profound. Many of the characters are heavily stereotyped -- the angry veterans, the terrified illegal aliens, the crooked cops, the indifferent feds, the bitchy tough lady station head, the crooked politician, the fat federale who looks like he was typecast as the Mexican in a Hollywood movie from the 1940s. All passably acted but again nothing special.<br /><br />I thought the main villains were pretty well done and fairly well acted. By the end of the movie you certainly knew who the good guys were and weren't. There was an emotional lift as the really bad ones got their just deserts. Very simplistic, but then you weren't expecting Hamlet, right? The only thing I found really annoying was the constant cuts to VDs daughter during the last fight scene.<br /><br />Not bad. Not good. Passable 4.\n",
      "Synonym\n",
      " Worth the entertainment value of a rental, particularly if you like action films. Thbe one features the usual auto pursuit, fights with the great Van Damme kick style, shooting battles with the 40 shell load shotgun, and even terrorbet style bombs. All of thbe be entertaining and competently manage but there be nil that truly blows you away if you've see your share before.<bromine /><bromine />The secret plan be made interesting by the inclusion of a coney, which be clever but hardly profound. Many of the characters are to a great extent pigeonhole -- the angry veterans, the terrified illegal foreigner, the crooked cops, the indifferent Federal, the bitchy tough lady station head, the crooked politician, the fat federale who looks like he was typecast as the Mexican in a Hollywood film from the forties. All reasonably acted but once again nil special.<bromine /><bromine />I thought the main villains were pretty well done and reasonably well acted. By the terminal of the film you surely know who the good guys were and weren't. There was an emotional lift as the truly bad ones get their just comeuppance. Very simplbetic, but then you weren't expecting hamlet, right? The only thing I found truly annoying was the constant cut to VDs girl during the last fight scene.<bromine /><bromine />not bad. not good. Passable 4.\n",
      "{'passably': 'reasonably', 'again': 'once again', 'handled': 'manage', 'is': 'be', 'aliens': 'foreigner', 'br': 'bromine', 'end': 'terminal', 'seen': 'see', 'movie': 'film', 'got': 'get', 'chases': 'pursuit', 'heavily': 'to a great extent', 'especially': 'particularly', 'cuts': 'cut', 'nothing': 'nil', 'fairly': 'reasonably', 'deserts': 'comeuppance', 'car': 'auto', '1940s': 'forties', 'Not': 'not', 'rabbit': 'coney', 'certainly': 'surely', 'Hamlet': 'hamlet', 'daughter': 'girl', 'plot': 'secret plan', 'knew': 'know', 'feds': 'Federal', 'really': 'truly', 'stereotyped': 'pigeonhole'}\n",
      "Original\n",
      " its a totally average film with a few semi-alright action sequences that make the plot seem a little better and remind the viewer of the classic van dam films. parts of the plot don't make sense and seem to be added in to use up time. the end plot is that of a very basic type that doesn't leave the viewer guessing and any twists are obvious from the beginning. the end scene with the flask backs don't make sense as they are added in and seem to have little relevance to the history of van dam's character. not really worth watching again, bit disappointed in the end production, even though it is apparent it was shot on a low budget certain shots and sections in the film are of poor directed quality\n",
      "Synonym\n",
      " its a totally average film with a few semi-alright action sequences that make the secret plan look a little better and remind the spectator of the classic avant-garde dam films. parts of the secret plan don't make sense and look to be add in to use up time. the terminal secret plan be that of a very basic type that doesn't leave the spectator guess and any turn are obvious from the beginning. the terminal scene with the flask backs don't make sense as they are add in and look to have little releavant-gardece to the hbetory of avant-garde dam's fictional character. not really worth watching again, bit dbeappointed in the terminal production, even though it be apparent it was shot on a low budget certain shooting and sections in the film are of poor direct quality\n",
      "{'plot': 'secret plan', 'twists': 'turn', 'directed': 'direct', 'seem': 'look', 'shots': 'shooting', 'is': 'be', 'guessing': 'guess', 'viewer': 'spectator', 'end': 'terminal', 'van': 'avant-garde', 'character': 'fictional character', 'added': 'add'}\n",
      "Original\n",
      " STAR RATING: ***** Saturday Night **** Friday Night *** Friday Morning ** Sunday Night * Monday Morning <br /><br />Former New Orleans homicide cop Jack Robideaux (Jean Claude Van Damme) is re-assigned to Columbus, a small but violent town in Mexico to help the police there with their efforts to stop a major heroin smuggling operation into their town. The culprits turn out to be ex-military, lead by former commander Benjamin Meyers (Stephen Lord, otherwise known as Jase from East Enders) who is using a special method he learned in Afghanistan to fight off his opponents. But Jack has a more personal reason for taking him down, that draws the two men into an explosive final showdown where only one will walk away alive.<br /><br />After Until Death, Van Damme appeared to be on a high, showing he could make the best straight to video films in the action market. While that was a far more drama oriented film, with The Shepherd he has returned to the high-kicking, no brainer action that first made him famous and has sadly produced his worst film since Derailed. It's nowhere near as bad as that film, but what I said still stands.<br /><br />A dull, predictable film, with very little in the way of any exciting action. What little there is mainly consists of some limp fight scenes, trying to look cool and trendy with some cheap slo-mo/sped up effects added to them that sadly instead make them look more desperate. Being a Mexican set film, director Isaac Florentine has tried to give the film a Robert Rodriguez/Desperado sort of feel, but this only adds to the desperation.<br /><br />VD gives a particularly uninspired performance and given he's never been a Robert De Niro sort of actor, that can't be good. As the villain, Lord shouldn't expect to leave the beeb anytime soon. He gets little dialogue at the beginning as he struggles to muster an American accent but gets mysteriously better towards the end. All the supporting cast are equally bland, and do nothing to raise the films spirits at all.<br /><br />This is one shepherd that's strayed right from the flock. *\n",
      "Synonym\n",
      " star RATING: ***** Sabbatum night **** Friday night *** Friday morning ** Godhead's Day night * Mon morning <bromine /><bromine />Former New Orleans homicide bull jack Robideaux (jean Claude Van Damme) be re-assigned to Columbus, a small but violent town in Mexico to help the police force there with their attempt to stop a major diacetylmorphine smuggling operation into their town. The culprits turn out to be ex-military, lead by former commander benzoin Meyers (Sir Leslie Stephen Godhead, otherwbee know as Jase from east Enders) who be using a special method he learn in Islamic State of Afghanbetan to fight off hbe opposition. But jack has a more personal reason for taking him down, that draws the two men into an explosive final showdown where only one will walk away alive.<bromine /><bromine />After Until death, Van Damme look to be on a high, showing he could make the best heterosexual to video movies in the action market. While that was a far more drama oriented movie, with The shepherd he has returned to the high-kicking, no bromineainer action that first make him famous and has unhappily produce hbe worst movie since Delawarerailed. It's nowhere near as bad as that movie, but what I said still stands.<bromine /><bromine />A dull, predictable movie, with very little in the way of any exciting action. What little there be chiefly consbets of some limp fight scene, try to look cool and trendy with some cheap slo-mo/sped up personal effects added to them that unhappily instead make them look more desperate. Being a Mexican set movie, manager Isaac Florentine has tried to give the movie a Henry M. Robert Rodriguez/Delawaresperado kind of feel, but thbe only adds to the desperation.<bromine /><bromine />VD gives a particularly uninspired performance and given he's never been a Henry M. Robert Delaware Niro kind of actor, that can't be good. As the scoundrel, Godhead shouldn't anticipate to leave the beeb anytime soon. He gets little dialogue at the beginning as he struggles to muster an American accent but gets mysteriously better towards the end. All the supporting cast of characters are equally bland, and do nothing to rabee the movies liquor at all.<bromine /><bromine />Thbe be one shepherd that's roll right from the flock. *\n",
      "{'made': 'make', 'Death': 'death', 'Afghanistan': 'Islamic State of Afghanistan', 'Stephen': 'Sir Leslie Stephen', 'straight': 'heterosexual', 'effects': 'personal effects', 'appeared': 'look', 'De': 'Delaware', 'film': 'movie', 'Saturday': 'Sabbatum', 'Jack': 'jack', 'cop': 'bull', 'produced': 'produce', 'opponents': 'opposition', 'Morning': 'morning', 'efforts': 'attempt', 'strayed': 'roll', 'spirits': 'liquor', 'known': 'know', 'mainly': 'chiefly', 'Sunday': \"Lord's Day\", 'scenes': 'scene', 'br': 'bromine', 'heroin': 'diacetylmorphine', 'cast': 'cast of characters', 'Monday': 'Mon', 'STAR': 'star', 'sadly': 'unhappily', 'sort': 'kind', 'Robert': 'Henry M. Robert', 'is': 'be', 'Lord': 'Godhead', 'Jean': 'jean', 'Night': 'night', 'expect': 'anticipate', 'director': 'manager', 'Benjamin': 'benzoin', 'learned': 'learn', 'Derailed': 'derail', 'trying': 'try', 'villain': 'scoundrel', 'Shepherd': 'shepherd', 'police': 'police force', 'East': 'east'}\n",
      "Original\n",
      " First off let me say, If you haven't enjoyed a Van Damme movie since bloodsport, you probably will not like this movie. Most of these movies may not have the best plots or best actors but I enjoy these kinds of movies for what they are. This movie is much better than any of the movies the other action guys (Segal and Dolph) have thought about putting out the past few years. Van Damme is good in the movie, the movie is only worth watching to Van Damme fans. It is not as good as Wake of Death (which i highly recommend to anyone of likes Van Damme) or In hell but, in my opinion it's worth watching. It has the same type of feel to it as Nowhere to Run. Good fun stuff!\n",
      "Synonym\n",
      " First off let me say, If you haven't enjoyed a avant-garde Damme film since bloodsport, you probably will non like this film. most of these films may non have the best plot or best actor but I enjoy these kind of films for what they are. This film is much better than any of the films the other action guys (George Segal and Dolph) have thought about putting out the past few old age. avant-garde Damme is good in the film, the film is only worth watching to avant-garde Damme fans. It is non as good as Wake of Death (which i extremely recommend to anyone of likes avant-garde Damme) or In hell but, in my opinion it's worth watching. It has the same type of feel to it as Nowhere to Run. Good fun stuff!\n",
      "{'kinds': 'kind', 'plots': 'plot', 'highly': 'extremely', 'years': 'old age', 'Most': 'most', 'movie': 'film', 'Van': 'avant-garde', 'actors': 'actor', 'movies': 'movie', 'not': 'non', 'Segal': 'George Segal'}\n",
      "Original\n",
      " I had high hopes for this one until they changed the name to 'The Shepherd : Border Patrol, the lamest movie name ever, what was wrong with just 'The Shepherd'. This is a by the numbers action flick that tips its hat at many classic Van Damme films. There is a nice bit of action in a bar which reminded me of hard target and universal soldier but directed with no intensity or flair which is a shame. There is one great line about 'being p*ss drunk and carrying a rabbit' and some OK action scenes let down by the cheapness of it all. A lot of the times the dialogue doesn't match the characters mouth and the stunt men fall down dead a split second before even being shot. The end fight is one of the better Van Damme fights except the Director tries to go a bit too John Woo and fails also introducing flashbacks which no one really cares about just gets in the way of the action which is the whole point of a van Damme film.<br /><br />Not good, not bad, just average generic action.\n",
      "Synonym\n",
      " I have high hopes for thbe one until they changed the name to 'The Shepherd : boundary line patrol, the lamest film name ever, wchapeau was wrong with just 'The Shepherd'. Thbe be a by the numbers action flick tchapeau tips its chapeau at many claUnited States Secret Serviceic avant-garde Damme films. There be a nice spot of action in a bar which remind me of hard mark and universal soldier but direct with no strength or genius which be a shame. There be one great line about 'being p*United States Secret Service drunkard and carrying a rabspot' and some OK action scenes let down by the cheapneUnited States Secret Service of it all. A batch of the times the dialog doesn't match the characters mouth and the stunt men fall down dead a split second before even being shot. The end battle be one of the better avant-garde Damme battles except the Director tries to go a spot too John Woo and fails besides introducing flashback which no one truly cares about just gets in the manner of the action which be the whole point of a van Damme film.<br /><br />Not good, not bad, just average generic action.\n",
      "{'Patrol': 'patrol', 'target': 'mark', 'had': 'have', 'drunk': 'drunkard', 'directed': 'direct', 'fight': 'battle', 'way': 'manner', 'movie': 'film', 'really': 'truly', 'bit': 'spot', 'lot': 'batch', 'hat': 'chapeau', 'flashbacks': 'flashback', 'is': 'be', 'ss': 'United States Secret Service', 'dialogue': 'dialog', 'intensity': 'strength', 'flair': 'genius', 'reminded': 'remind', 'Border': 'boundary line', 'also': 'besides', 'cheapness': 'bargain rate', 'Van': 'avant-garde'}\n",
      "Original\n",
      " Isaac Florentine has made some of the best western Martial Arts action movies ever produced. In particular US Seals 2, Cold Harvest, Special Forces and Undisputed 2 are all action classics. You can tell Isaac has a real passion for the genre and his films are always eventful, creative and sharp affairs, with some of the best fight sequences an action fan could hope for. In particular he has found a muse with Scott Adkins, as talented an actor and action performer as you could hope for. This is borne out with Special Forces and Undisputed 2, but unfortunately The Shepherd just doesn't live up to their abilities.<br /><br />There is no doubt that JCVD looks better here fight-wise than he has done in years, especially in the fight he has (for pretty much no reason) in a prison cell, and in the final showdown with Scott, but look in his eyes. JCVD seems to be dead inside. There's nothing in his eyes at all. It's like he just doesn't care about anything throughout the whole film. And this is the leading man.<br /><br />There are other dodgy aspects to the film, script-wise and visually, but the main problem is that you are utterly unable to empathise with the hero of the film. A genuine shame as I know we all wanted this film to be as special as it genuinely could have been. There are some good bits, mostly the action scenes themselves. This film had a terrific director and action choreographer, and an awesome opponent for JCVD to face down. This could have been the one to bring the veteran action star back up to scratch in the balls-out action movie stakes.<br /><br />Sincerely a shame that this didn't happen.\n",
      "Synonym\n",
      " Isaac Florentine has made some of the best western Martial humanistic discipline action movies ever produce. In particular United States sealing wax 2, cold Harvest, Special Forces and Undbeputed 2 are all action classics. You can tell Isaac has a real passionateness for the genre and hbe movie are always eventful, creative and sharp affairs, with some of the best battle sequences an action fan could hope for. In particular he has found a muse with George C. Scott Adkins, as talented an actor and action performer as you could hope for. Thbe be bear out with Special Forces and Undbeputed 2, but unluckily The shepherd just doesn't populate up to their abilities.<bromine /><bromine />There be no doubt that JCVD looks better here battle-wbee than he has make in years, particularly in the battle he has (for pretty much no reason) in a prbeon cell, and in the final showdown with George C. Scott, but look in hbe eyes. JCVD seems to be dead inside. There's nothing in hbe eyes at all. It's like he just doesn't care about anything throughout the whole movie. And thbe be the leading man.<bromine /><bromine />There are other dodgy aspects to the movie, script-wbee and vbeually, but the main problem be that you are absolutely unable to empathbee with the hero of the movie. A genuine shame as I know we all desire thbe movie to be as special as it truly could have be. There are some good bits, mostly the action scenes themselves. Thbe movie have a terrific director and action choreographer, and an awesome opposition for JCVD to face down. Thbe could have be the one to bromineing the veteran action star back up to scratch in the balls-out action movie stakes.<bromine /><bromine />sincerely a shame that thbe maken't happen.\n",
      "{'Seals': 'sealing wax', 'films': 'movie', 'br': 'bromine', 'film': 'movie', 'live': 'populate', 'US': 'United States', 'especially': 'particularly', 'wanted': 'desire', 'utterly': 'absolutely', 'opponent': 'opposition', 'been': 'be', 'is': 'be', 'bring': 'convey', 'Scott': 'George C. Scott', 'genuinely': 'truly', 'Arts': 'humanistic discipline', 'unfortunately': 'unluckily', 'fight': 'battle', 'Sincerely': 'sincerely', 'did': 'make', 'borne': 'bear', 'produced': 'produce', 'done': 'make', 'had': 'have', 'Shepherd': 'shepherd', 'passion': 'passionateness', 'Cold': 'cold'}\n"
     ]
    }
   ],
   "source": [
    "N = 5\n",
    "for i, data in enumerate(test_dataset):\n",
    "    sentence = data[\"text\"]\n",
    "    print(\"Original\\n\", sentence)\n",
    "    sentence_new, syn_dict = replace_with_synonym(sentence, 0.40)\n",
    "    print(\"Synonym\\n\", sentence_new)\n",
    "    print(syn_dict)\n",
    "    if i > N:\n",
    "        break"
   ]
  },
  {
   "cell_type": "code",
   "execution_count": null,
   "metadata": {},
   "outputs": [],
   "source": []
  },
  {
   "cell_type": "code",
   "execution_count": null,
   "metadata": {},
   "outputs": [],
   "source": []
  },
  {
   "cell_type": "code",
   "execution_count": 65,
   "metadata": {},
   "outputs": [],
   "source": [
    "word_list  = word_tokenize(example)"
   ]
  },
  {
   "cell_type": "code",
   "execution_count": 67,
   "metadata": {},
   "outputs": [],
   "source": [
    "chosen_word = random.choice(word_list)\n",
    "synonyms = wn.synsets(chosen_word)\n",
    "\n",
    "# If chosen word doesn't have a synonym select retry until finding a word that does.\n",
    "max_retry = len(word_list)\n",
    "retry = 0 \n",
    "while (len(synonyms) == 0 and retry <= max_retry):\n",
    "    chosen_word = random.choice(word_list)\n",
    "    synonyms = wn.synsets(chosen_word)"
   ]
  },
  {
   "cell_type": "code",
   "execution_count": 74,
   "metadata": {},
   "outputs": [],
   "source": [
    "# Perform POS tagging\n",
    "pos_tags = pos_tag(word_list)\n",
    "\n",
    "# Print the word and its POS tag\n",
    "chosen_word_tag = [tag for word, tag in pos_tags if word == chosen_word][0]"
   ]
  },
  {
   "cell_type": "code",
   "execution_count": 79,
   "metadata": {},
   "outputs": [],
   "source": [
    "synonym_list = set()\n",
    "for syn in synonyms:\n",
    "    # Only consider synonyms that have the same POS_TAG\n",
    "    if syn.pos() == chosen_word_wordnet_tag:\n",
    "        for lemma in syn.lemmas():\n",
    "            if (lemma.name() != chosen_word) & (lemma):\n",
    "\n",
    "                synonym_list.add(lemma.name().replace('_', ' ')) # Replace underscores for multi-word synonyms"
   ]
  },
  {
   "cell_type": "code",
   "execution_count": null,
   "metadata": {},
   "outputs": [],
   "source": []
  }
 ],
 "metadata": {
  "kernelspec": {
   "display_name": "hack",
   "language": "python",
   "name": "python3"
  },
  "language_info": {
   "codemirror_mode": {
    "name": "ipython",
    "version": 3
   },
   "file_extension": ".py",
   "mimetype": "text/x-python",
   "name": "python",
   "nbconvert_exporter": "python",
   "pygments_lexer": "ipython3",
   "version": "3.11.5"
  }
 },
 "nbformat": 4,
 "nbformat_minor": 2
}
