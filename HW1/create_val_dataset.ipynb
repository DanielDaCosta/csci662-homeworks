{
 "cells": [
  {
   "cell_type": "markdown",
   "metadata": {},
   "source": [
    "# Create Dataset"
   ]
  },
  {
   "cell_type": "code",
   "execution_count": 3,
   "metadata": {},
   "outputs": [],
   "source": [
    "import pandas as pd\n",
    "import csv"
   ]
  },
  {
   "cell_type": "markdown",
   "metadata": {},
   "source": [
    "## Create Validation set"
   ]
  },
  {
   "cell_type": "code",
   "execution_count": 38,
   "metadata": {},
   "outputs": [],
   "source": [
    "name = \"4dim\"\n",
    "# name = \"odiya\""
   ]
  },
  {
   "cell_type": "code",
   "execution_count": 39,
   "metadata": {},
   "outputs": [],
   "source": [
    "true_labels = pd.read_csv(f\"work/datasets/{name}.train.txt\", sep='\\t', header=None)"
   ]
  },
  {
   "cell_type": "code",
   "execution_count": 40,
   "metadata": {},
   "outputs": [],
   "source": [
    "size_val = 100"
   ]
  },
  {
   "cell_type": "code",
   "execution_count": 41,
   "metadata": {},
   "outputs": [],
   "source": [
    "# Save for INFERENCE (NO TARGET)\n",
    "series = true_labels.head(100)[0]\n",
    "\n",
    "# Specify the file path\n",
    "file_path = f\"work/datasets/{name}.val.test.txt\"\n",
    "\n",
    "# Open the file for writing and write each element without quotes\n",
    "with open(file_path, 'w') as file:\n",
    "    for value in series:\n",
    "        file.write(str(value) + '\\n')\n",
    "\n",
    "\n",
    "# Save for INFERENCE (WITH TARGET)\n",
    "series = true_labels.head(100)\n",
    "\n",
    "# Specify the file path\n",
    "file_path = f\"work/datasets/{name}.val.txt\"\n",
    "\n",
    "# Open the file for writing\n",
    "with open(file_path, 'w') as file:\n",
    "    for row in series.itertuples(index=False):\n",
    "        # Join the row elements into a tab-separated string (adjust separator as needed)\n",
    "        row_str = '\\t'.join(map(str, row))\n",
    "        file.write(row_str + '\\n')\n"
   ]
  },
  {
   "cell_type": "code",
   "execution_count": null,
   "metadata": {},
   "outputs": [],
   "source": []
  }
 ],
 "metadata": {
  "kernelspec": {
   "display_name": "base",
   "language": "python",
   "name": "python3"
  },
  "language_info": {
   "codemirror_mode": {
    "name": "ipython",
    "version": 3
   },
   "file_extension": ".py",
   "mimetype": "text/x-python",
   "name": "python",
   "nbconvert_exporter": "python",
   "pygments_lexer": "ipython3",
   "version": "3.10.11"
  },
  "orig_nbformat": 4
 },
 "nbformat": 4,
 "nbformat_minor": 2
}
