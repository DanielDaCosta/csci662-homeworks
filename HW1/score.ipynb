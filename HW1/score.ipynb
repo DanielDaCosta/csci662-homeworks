{
 "cells": [
  {
   "cell_type": "code",
   "execution_count": 2,
   "metadata": {},
   "outputs": [],
   "source": [
    "import argparse\n",
    "from operator import methodcaller\n",
    "import string\n",
    "import numpy as np\n",
    "\n",
    "def get_arguments():\n",
    "    parser = argparse.ArgumentParser(description=\"Evaluate Classifier\")\n",
    "    parser.add_argument(\"-t\", help=\"path of the input file in the form <text>TAB<label>\")\n",
    "    parser.add_argument(\"-p\", help=\"path of the prediction file in the form <prediction_label>\")\n",
    "\n",
    "    return parser.parse_args()\n"
   ]
  },
  {
   "cell_type": "code",
   "execution_count": 4,
   "metadata": {},
   "outputs": [],
   "source": [
    "input_file = \"work/datasets/odiya.train.txt\"\n",
    "pred_file = \"work/datasets/4dim.val.pred.txt\"\n",
    "\n",
    "# True Labels\n",
    "with open(input_file) as file:\n",
    "    data = file.read().splitlines()"
   ]
  },
  {
   "cell_type": "code",
   "execution_count": 3,
   "metadata": {},
   "outputs": [
    {
     "ename": "FileNotFoundError",
     "evalue": "[Errno 2] No such file or directory: 'work/datasets/4dim.val.pred.txt'",
     "output_type": "error",
     "traceback": [
      "\u001b[0;31m---------------------------------------------------------------------------\u001b[0m",
      "\u001b[0;31mFileNotFoundError\u001b[0m                         Traceback (most recent call last)",
      "\u001b[1;32m/Users/danieldacosta/Documents/USC/csci662/csci662-homeworks/HW1/score.ipynb Cell 2\u001b[0m line \u001b[0;36m1\n\u001b[1;32m      <a href='vscode-notebook-cell:/Users/danieldacosta/Documents/USC/csci662/csci662-homeworks/HW1/score.ipynb#W1sZmlsZQ%3D%3D?line=8'>9</a>\u001b[0m _, true_labels \u001b[39m=\u001b[39m \u001b[39mmap\u001b[39m(\u001b[39mlist\u001b[39m, \u001b[39mzip\u001b[39m(\u001b[39m*\u001b[39mdata_split))\n\u001b[1;32m     <a href='vscode-notebook-cell:/Users/danieldacosta/Documents/USC/csci662/csci662-homeworks/HW1/score.ipynb#W1sZmlsZQ%3D%3D?line=10'>11</a>\u001b[0m \u001b[39m# Pred Labels\u001b[39;00m\n\u001b[0;32m---> <a href='vscode-notebook-cell:/Users/danieldacosta/Documents/USC/csci662/csci662-homeworks/HW1/score.ipynb#W1sZmlsZQ%3D%3D?line=11'>12</a>\u001b[0m \u001b[39mwith\u001b[39;00m \u001b[39mopen\u001b[39;49m(pred_file) \u001b[39mas\u001b[39;00m file:\n\u001b[1;32m     <a href='vscode-notebook-cell:/Users/danieldacosta/Documents/USC/csci662/csci662-homeworks/HW1/score.ipynb#W1sZmlsZQ%3D%3D?line=12'>13</a>\u001b[0m     pred_labels \u001b[39m=\u001b[39m file\u001b[39m.\u001b[39mread()\u001b[39m.\u001b[39msplitlines()\n",
      "File \u001b[0;32m~/miniconda3/lib/python3.10/site-packages/IPython/core/interactiveshell.py:284\u001b[0m, in \u001b[0;36m_modified_open\u001b[0;34m(file, *args, **kwargs)\u001b[0m\n\u001b[1;32m    277\u001b[0m \u001b[39mif\u001b[39;00m file \u001b[39min\u001b[39;00m {\u001b[39m0\u001b[39m, \u001b[39m1\u001b[39m, \u001b[39m2\u001b[39m}:\n\u001b[1;32m    278\u001b[0m     \u001b[39mraise\u001b[39;00m \u001b[39mValueError\u001b[39;00m(\n\u001b[1;32m    279\u001b[0m         \u001b[39mf\u001b[39m\u001b[39m\"\u001b[39m\u001b[39mIPython won\u001b[39m\u001b[39m'\u001b[39m\u001b[39mt let you open fd=\u001b[39m\u001b[39m{\u001b[39;00mfile\u001b[39m}\u001b[39;00m\u001b[39m by default \u001b[39m\u001b[39m\"\u001b[39m\n\u001b[1;32m    280\u001b[0m         \u001b[39m\"\u001b[39m\u001b[39mas it is likely to crash IPython. If you know what you are doing, \u001b[39m\u001b[39m\"\u001b[39m\n\u001b[1;32m    281\u001b[0m         \u001b[39m\"\u001b[39m\u001b[39myou can use builtins\u001b[39m\u001b[39m'\u001b[39m\u001b[39m open.\u001b[39m\u001b[39m\"\u001b[39m\n\u001b[1;32m    282\u001b[0m     )\n\u001b[0;32m--> 284\u001b[0m \u001b[39mreturn\u001b[39;00m io_open(file, \u001b[39m*\u001b[39;49margs, \u001b[39m*\u001b[39;49m\u001b[39m*\u001b[39;49mkwargs)\n",
      "\u001b[0;31mFileNotFoundError\u001b[0m: [Errno 2] No such file or directory: 'work/datasets/4dim.val.pred.txt'"
     ]
    }
   ],
   "source": [
    "input_file = \"work/datasets/odiya.train.txt\"\n",
    "pred_file = \"work/datasets/4dim.val.pred.txt\"\n",
    "\n",
    "# True Labels\n",
    "with open(input_file) as file:\n",
    "    data = file.read().splitlines()\n",
    "\n",
    "data_split = map(methodcaller(\"rsplit\", \"\\t\", 1), data)\n",
    "_, true_labels = map(list, zip(*data_split))\n",
    "\n",
    "# Pred Labels\n",
    "with open(pred_file) as file:\n",
    "    pred_labels = file.read().splitlines()\n",
    "\n",
    "# data_split = map(methodcaller(\"rsplit\", \"\\t\", 1), data)\n",
    "# true_labels = map(list, zip(*data_split))"
   ]
  },
  {
   "cell_type": "code",
   "execution_count": 3,
   "metadata": {},
   "outputs": [],
   "source": [
    "# Calculate the accuracy\n",
    "total_samples = len(true_labels)\n",
    "correct_predictions = sum(1 for true, pred in zip(true_labels, pred_labels) if true == pred)"
   ]
  },
  {
   "cell_type": "code",
   "execution_count": 4,
   "metadata": {},
   "outputs": [
    {
     "name": "stdout",
     "output_type": "stream",
     "text": [
      "Accuracy: 0.00%\n"
     ]
    }
   ],
   "source": [
    "accuracy_percentage = (correct_predictions/total_samples) * 100\n",
    "\n",
    "print(f\"Accuracy: {accuracy_percentage:.2f}%\")"
   ]
  },
  {
   "cell_type": "code",
   "execution_count": 18,
   "metadata": {},
   "outputs": [
    {
     "ename": "UFuncTypeError",
     "evalue": "ufunc 'subtract' did not contain a loop with signature matching types (dtype('<U7'), dtype('<U7')) -> None",
     "output_type": "error",
     "traceback": [
      "\u001b[0;31m---------------------------------------------------------------------------\u001b[0m",
      "\u001b[0;31mUFuncTypeError\u001b[0m                            Traceback (most recent call last)",
      "Cell \u001b[0;32mIn[18], line 2\u001b[0m\n\u001b[1;32m      1\u001b[0m \u001b[39m# Calculate the element-wise difference between the two arrays\u001b[39;00m\n\u001b[0;32m----> 2\u001b[0m differences \u001b[39m=\u001b[39m np\u001b[39m.\u001b[39mabs(np\u001b[39m.\u001b[39;49marray(true_labels) \u001b[39m-\u001b[39;49m np\u001b[39m.\u001b[39;49marray(pred_labels))\n",
      "\u001b[0;31mUFuncTypeError\u001b[0m: ufunc 'subtract' did not contain a loop with signature matching types (dtype('<U7'), dtype('<U7')) -> None"
     ]
    }
   ],
   "source": [
    "# Calculate the element-wise difference between the two arrays\n",
    "differences = np.abs(np.array(true_labels) - np.array(pred_labels))"
   ]
  },
  {
   "cell_type": "code",
   "execution_count": 15,
   "metadata": {},
   "outputs": [
    {
     "data": {
      "text/plain": [
       "['pos.dec', 'pos.tru', 'neg.dec', 'pos.dec', 'pos.dec', 'neg.dec']"
      ]
     },
     "execution_count": 15,
     "metadata": {},
     "output_type": "execute_result"
    }
   ],
   "source": [
    "true_labels"
   ]
  },
  {
   "cell_type": "code",
   "execution_count": null,
   "metadata": {},
   "outputs": [],
   "source": []
  }
 ],
 "metadata": {
  "kernelspec": {
   "display_name": "base",
   "language": "python",
   "name": "python3"
  },
  "language_info": {
   "codemirror_mode": {
    "name": "ipython",
    "version": 3
   },
   "file_extension": ".py",
   "mimetype": "text/x-python",
   "name": "python",
   "nbconvert_exporter": "python",
   "pygments_lexer": "ipython3",
   "version": "3.10.11"
  },
  "orig_nbformat": 4
 },
 "nbformat": 4,
 "nbformat_minor": 2
}
