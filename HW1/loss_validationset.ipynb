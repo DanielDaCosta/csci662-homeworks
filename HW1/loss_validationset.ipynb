{
 "cells": [
  {
   "cell_type": "code",
   "execution_count": 2,
   "metadata": {},
   "outputs": [],
   "source": [
    "import pandas as pd"
   ]
  },
  {
   "cell_type": "code",
   "execution_count": 11,
   "metadata": {},
   "outputs": [],
   "source": [
    "loss_4dim = pd.read_csv(\"work/datasets/4dim/loss.txt\", header=None)[0].tolist()\n",
    "loss_odiya = pd.read_csv(\"work/datasets/odiya/loss.txt\", header=None)[0].tolist()\n",
    "loss_products = pd.read_csv(\"work/datasets/products/loss.txt\", header=None)[0].tolist()\n",
    "loss_questions = pd.read_csv(\"work/datasets/questions/loss.txt\", header=None)[0].tolist()"
   ]
  },
  {
   "cell_type": "code",
   "execution_count": 12,
   "metadata": {},
   "outputs": [
    {
     "data": {
      "image/png": "[encoded data removed]",
      "text/plain": [
       "<Figure size 432x288 with 1 Axes>"
      ]
     },
     "metadata": {
      "needs_background": "light"
     },
     "output_type": "display_data"
    }
   ],
   "source": [
    "import matplotlib.pyplot as plt\n",
    "import numpy as np\n",
    "\n",
    "\n",
    "# Pad shorter arrays with NaN values to make them the same length as the longest\n",
    "max_length = max(len(loss_4dim), len(loss_odiya), len(loss_products), len(loss_questions))\n",
    "loss_4dim += [np.nan] * (max_length - len(loss_4dim))\n",
    "loss_odiya += [np.nan] * (max_length - len(loss_odiya))\n",
    "loss_products += [np.nan] * (max_length - len(loss_products))\n",
    "loss_questions += [np.nan] * (max_length - len(loss_questions))\n",
    "\n",
    "# Create a common x-axis for the plots\n",
    "x = np.arange(max_length)\n",
    "\n",
    "# Plot the loss arrays\n",
    "plt.plot(x, loss_4dim, label='4dim')\n",
    "plt.plot(x, loss_odiya, label='Odiya')\n",
    "plt.plot(x, loss_products, label='Products')\n",
    "plt.plot(x, loss_questions, label='Questions')\n",
    "\n",
    "plt.xlabel('Epochs')\n",
    "plt.ylabel('Loss')\n",
    "plt.legend()\n",
    "plt.title('Loss Comparison')\n",
    "plt.grid(True)\n",
    "plt.show()"
   ]
  },
  {
   "cell_type": "code",
   "execution_count": 16,
   "metadata": {},
   "outputs": [],
   "source": [
    "df_odiya = pd.read_csv(\"work/datasets/odiya/train.txt\", sep='\\t', header=None, names=['text', 'true_label'])\n",
    "df_4dim = pd.read_csv(\"work/datasets/4dim/train.txt\", sep='\\t', header=None, names=['text', 'true_label'])\n",
    "df_questions = pd.read_csv(\"work/datasets/questions/train.txt\", sep='\\t', header=None, names=['text', 'true_label'])\n",
    "df_products= pd.read_csv(\"work/datasets/products/train.txt\", sep='\\t', header=None, names=['text', 'true_label'])"
   ]
  },
  {
   "cell_type": "code",
   "execution_count": 24,
   "metadata": {},
   "outputs": [
    {
     "name": "stdout",
     "output_type": "stream",
     "text": [
      "pos: 59.16%\n",
      "neg: 40.84%\n"
     ]
    }
   ],
   "source": [
    "# Calculate the total count\n",
    "total_count = sum(dict(df_products['true_label'].value_counts()).values())\n",
    "\n",
    "# Compute the percentage for each class\n",
    "class_percentages = {cls: (count / total_count) * 100 for cls, count in dict(df_products['true_label'].value_counts()).items()}\n",
    "\n",
    "# Print the percentages\n",
    "for cls, percentage in class_percentages.items():\n",
    "    print(f'{cls}: {percentage:.2f}%')"
   ]
  },
  {
   "cell_type": "code",
   "execution_count": 25,
   "metadata": {},
   "outputs": [
    {
     "name": "stdout",
     "output_type": "stream",
     "text": [
      "sports: 45.56%\n",
      "business: 30.41%\n",
      "entertainment: 24.03%\n"
     ]
    }
   ],
   "source": [
    "# Calculate the total count\n",
    "total_count = sum(dict(df_odiya['true_label'].value_counts()).values())\n",
    "\n",
    "# Compute the percentage for each class\n",
    "class_percentages = {cls: (count / total_count) * 100 for cls, count in dict(df_odiya['true_label'].value_counts()).items()}\n",
    "\n",
    "# Print the percentages\n",
    "for cls, percentage in class_percentages.items():\n",
    "    print(f'{cls}: {percentage:.2f}%')"
   ]
  },
  {
   "cell_type": "code",
   "execution_count": 21,
   "metadata": {},
   "outputs": [
    {
     "data": {
      "text/plain": [
       "{'sports': 5539, 'business': 3697, 'entertainment': 2921}"
      ]
     },
     "execution_count": 21,
     "metadata": {},
     "output_type": "execute_result"
    }
   ],
   "source": [
    "dict(df_odiya['true_label'].value_counts())"
   ]
  },
  {
   "cell_type": "code",
   "execution_count": 19,
   "metadata": {},
   "outputs": [
    {
     "data": {
      "text/plain": [
       "neg.dec    327\n",
       "pos.tru    315\n",
       "neg.tru    308\n",
       "pos.dec    298\n",
       "Name: true_label, dtype: int64"
      ]
     },
     "execution_count": 19,
     "metadata": {},
     "output_type": "execute_result"
    }
   ],
   "source": [
    "df_4dim['true_label'].value_counts()"
   ]
  },
  {
   "cell_type": "code",
   "execution_count": 18,
   "metadata": {},
   "outputs": [
    {
     "data": {
      "text/plain": [
       "1    755\n",
       "3    755\n",
       "0    688\n",
       "5    522\n",
       "4    498\n",
       "2     53\n",
       "Name: true_label, dtype: int64"
      ]
     },
     "execution_count": 18,
     "metadata": {},
     "output_type": "execute_result"
    }
   ],
   "source": [
    "df_questions['true_label'].value_counts()"
   ]
  },
  {
   "cell_type": "code",
   "execution_count": 17,
   "metadata": {},
   "outputs": [
    {
     "data": {
      "text/plain": [
       "pos    15427\n",
       "neg    10651\n",
       "Name: true_label, dtype: int64"
      ]
     },
     "execution_count": 17,
     "metadata": {},
     "output_type": "execute_result"
    }
   ],
   "source": [
    "df_products['true_label'].value_counts()"
   ]
  },
  {
   "cell_type": "code",
   "execution_count": null,
   "metadata": {},
   "outputs": [],
   "source": []
  },
  {
   "cell_type": "code",
   "execution_count": null,
   "metadata": {},
   "outputs": [],
   "source": []
  }
 ],
 "metadata": {
  "kernelspec": {
   "display_name": "base",
   "language": "python",
   "name": "python3"
  },
  "language_info": {
   "codemirror_mode": {
    "name": "ipython",
    "version": 3
   },
   "file_extension": ".py",
   "mimetype": "text/x-python",
   "name": "python",
   "nbconvert_exporter": "python",
   "pygments_lexer": "ipython3",
   "version": "3.10.11"
  },
  "orig_nbformat": 4
 },
 "nbformat": 4,
 "nbformat_minor": 2
}
